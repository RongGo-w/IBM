{
  "metadata": {
    "language_info": {
      "codemirror_mode": {
        "name": "python",
        "version": 3
      },
      "file_extension": ".py",
      "mimetype": "text/x-python",
      "name": "python",
      "nbconvert_exporter": "python",
      "pygments_lexer": "ipython3",
      "version": "3.8"
    },
    "kernelspec": {
      "name": "python",
      "display_name": "Python (Pyodide)",
      "language": "python"
    }
  },
  "nbformat_minor": 4,
  "nbformat": 4,
  "cells": [
    {
      "cell_type": "markdown",
      "source": "# TITLE : Meggie Project",
      "metadata": {}
    },
    {
      "cell_type": "markdown",
      "source": "# TITLE : Meggie Project",
      "metadata": {}
    },
    {
      "cell_type": "markdown",
      "source": "# INTRODUCTORY\n## This project is designed to introduce data science engineering and tools",
      "metadata": {}
    },
    {
      "cell_type": "markdown",
      "source": "# INTRODUCTORY\n## This project is designed to introduce data science engineering and tools",
      "metadata": {}
    },
    {
      "cell_type": "markdown",
      "source": "# Data Science Languages\n### Python\n### R\n### SQL\n### Java\n### Scala\n### Julia\n### MATLAB\n### SAS\n### C/C++\n### JavaScript",
      "metadata": {}
    },
    {
      "cell_type": "markdown",
      "source": "# Data Science Languages\n### Python\n### R\n### SQL\n### Java\n### Scala\n### Julia\n### MATLAB\n### SAS\n### C/C++\n### JavaScript",
      "metadata": {}
    },
    {
      "cell_type": "markdown",
      "source": "# Data Science Libraries \n## NumPy: for numerical computing\n## Pandas: for data manipulation and analysis\n## Matplotlib: for data visualization\n## Seaborn: for data visualization and exploration\n## Scikit-learn: for machine learning and data mining\n## TensorFlow: for deep learning\n## Keras: for deep learning\n## PyTorch: for deep learning\n## SciPy: for scientific computing and optimization\n## Statsmodels: for statistical analysis and modeling",
      "metadata": {}
    },
    {
      "cell_type": "markdown",
      "source": "# Data Science Libraries \n## NumPy: for numerical computing\n## Pandas: for data manipulation and analysis\n## Matplotlib: for data visualization\n## Seaborn: for data visualization and exploration\n## Scikit-learn: for machine learning and data mining\n## TensorFlow: for deep learning\n## Keras: for deep learning\n## PyTorch: for deep learning\n## SciPy: for scientific computing and optimization\n## Statsmodels: for statistical analysis and modeling",
      "metadata": {}
    },
    {
      "cell_type": "markdown",
      "source": "| Tool | Description |\n| --- | --- |\n| Python | General-purpose programming language often used for data analysis and machine learning |\n| R | Statistical programming language used for data analysis and machine learning |\n| SQL | Query language used for managing and manipulating relational databases |\n| TensorFlow | Open-source software library for dataflow and differentiable programming across a range of tasks |\n| PyTorch | Open-source machine learning library for Python, based on Torch |\n",
      "metadata": {}
    },
    {
      "cell_type": "markdown",
      "source": "| Tool | Description |\n| --- | --- |\n| Python | General-purpose programming language often used for data analysis and machine learning |\n| R | Statistical programming language used for data analysis and machine learning |\n| SQL | Query language used for managing and manipulating relational databases |\n| TensorFlow | Open-source software library for dataflow and differentiable programming across a range of tasks |\n| PyTorch | Open-source machine learning library for Python, based on Torch |\n",
      "metadata": {}
    },
    {
      "cell_type": "markdown",
      "source": "# Arithmetic Expression Examples\n\n| Expression | Result |\n|------------|--------|\n| 2 + 2      | 4      |\n| 5 - 3      | 2      |\n| 4 * 3      | 12     |\n| 10 / 2     | 5.0    |\n| 2 ** 3     | 8      |\n",
      "metadata": {}
    },
    {
      "cell_type": "markdown",
      "source": "# Arithmetic Expression Examples\n\n| Expression | Result |\n|------------|--------|\n| 2 + 2      | 4      |\n| 5 - 3      | 2      |\n| 4 * 3      | 12     |\n| 10 / 2     | 5.0    |\n| 2 ** 3     | 8      |\n",
      "metadata": {}
    },
    {
      "cell_type": "code",
      "source": "# multiplication\nx = 2\ny = 3\nz = x * y\nprint(\"Multiplication result:\", z)\n\n# addition\na = 4\nb = 5\nc = a + b\nprint(\"Addition result:\", c)\n",
      "metadata": {
        "trusted": true
      },
      "execution_count": 3,
      "outputs": [
        {
          "name": "stdout",
          "text": "Multiplication result: 6\nAddition result: 9\n",
          "output_type": "stream"
        }
      ]
    },
    {
      "cell_type": "code",
      "source": "minutes = 120\nhours = minutes / 60\n\nprint(\"There are\", hours, \"hours in\", minutes, \"minutes.\")\n",
      "metadata": {
        "trusted": true
      },
      "execution_count": 4,
      "outputs": [
        {
          "name": "stdout",
          "text": "There are 2.0 hours in 120 minutes.\n",
          "output_type": "stream"
        }
      ]
    },
    {
      "cell_type": "markdown",
      "source": "# Objectives in Python may include:\n\n## Learning the basics of Python syntax and programming structures such as variables, data types, conditionals, loops, functions, and modules.\n## Understanding the fundamental concepts of object-oriented programming and how to implement them in Python.\n## Familiarizing oneself with popular Python libraries and frameworks for data analysis, scientific computing, machine learning, web development, and more.\n## Learning best practices for writing efficient, readable, and maintainable Python code.\n## Developing problem-solving and critical thinking skills through practice and project-based learning.",
      "metadata": {}
    },
    {
      "cell_type": "markdown",
      "source": "# Objectives in Python may include:\n\n## Learning the basics of Python syntax and programming structures such as variables, data types, conditionals, loops, functions, and modules.\n## Understanding the fundamental concepts of object-oriented programming and how to implement them in Python.\n## Familiarizing oneself with popular Python libraries and frameworks for data analysis, scientific computing, machine learning, web development, and more.\n## Learning best practices for writing efficient, readable, and maintainable Python code.\n## Developing problem-solving and critical thinking skills through practice and project-based learning.",
      "metadata": {}
    },
    {
      "cell_type": "markdown",
      "source": "# Author’s name.\n# Meggie Rong",
      "metadata": {}
    },
    {
      "cell_type": "markdown",
      "source": "# Author’s name.\n# Meggie Rong",
      "metadata": {}
    },
    {
      "cell_type": "code",
      "source": "",
      "metadata": {},
      "execution_count": null,
      "outputs": []
    }
  ]
}